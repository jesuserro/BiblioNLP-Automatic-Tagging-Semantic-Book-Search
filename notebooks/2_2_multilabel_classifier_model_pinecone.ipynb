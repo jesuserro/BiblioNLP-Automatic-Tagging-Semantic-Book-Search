{
 "cells": [
  {
   "cell_type": "code",
   "execution_count": 43,
   "metadata": {},
   "outputs": [],
   "source": [
    "# %% [markdown]\n",
    "# # Integración de Pinecone con modelo Logistic Regression para etiquetado multilabel\n",
    "\n",
    "# %%\n",
    "# Instalar librerías necesarias (una vez)\n",
    "# %pip install pinecone\n",
    "# %pip install sentence-transformers\n",
    "# %pip install joblib\n",
    "\n",
    "# %%\n",
    "import os\n",
    "import pandas as pd\n",
    "import pinecone\n",
    "import joblib\n",
    "import numpy as np\n",
    "from sentence_transformers import SentenceTransformer\n",
    "from sklearn.multioutput import MultiOutputClassifier\n",
    "from sklearn.linear_model import LogisticRegression\n",
    "from pinecone import Pinecone, ServerlessSpec\n",
    "import configparser\n",
    "import time\n",
    "from pinecone import exceptions\n",
    "\n",
    "\n",
    "DEFAULT_BOOK_TITLE = \"Messi: Edición revisada y actualizada (Biografías y memorias)\"\n",
    "DEFAULT_BOOK_BLURB = (\n",
    "    \"Leo Messi es el jugador de fútbol más conocido del planeta, pero también un enigma como persona, por su hermetismo. Esta biografía, que fue publicada por primera vez en 2014, y posteriormente actualizada en 2018, se presenta de nuevo en una edición que recoge lo más relevante de los últimos años del jugador en el Fútbol Club Barcelona. \\n\\n\"\n",
    "    \"En esta nueva edición, el autor repasa lo más destacado desde aquel fatídico Mundial de Brasil hasta el final de la temporada 2017/18, así como su paso por el Mundial de Rusia y por la Copa América 2021, que coincidía con el momento en que expiraba su contrato con el Fútbol Club Barcelona, y que convirtió al astro argentino en foco de todas las miradas, generando una enorme expectación.\\n\\n\"\n",
    "    \"En agosto de 2021, se anunció el desenlace que parecía imposible: Messi no pudo renovar en el Barça y se anunció su fichaje por el PSG. ¿Qué pasó? ¿Cómo es posible que, queriendo quedarse, tuviera que salir?\"\n",
    ")"
   ]
  },
  {
   "cell_type": "code",
   "execution_count": 44,
   "metadata": {},
   "outputs": [
    {
     "name": "stdout",
     "output_type": "stream",
     "text": [
      "✅ Connected to Pinecone!\n",
      "📌 El índice ya existe. Usando el existente.\n",
      "ℹ️ Índice ya estaba vacío.\n"
     ]
    }
   ],
   "source": [
    "# Get the pinecone API key from config.cfg\n",
    "config = configparser.ConfigParser()\n",
    "config.read('../config.cfg')\n",
    "PINECONE_API_KEY = config['pinecone']['api_key']\n",
    "PINECONE_ENV = config['pinecone']['environment']\n",
    "\n",
    "# %%\n",
    "# 1. Inicializa Pinecone (usa tu API Key personal desde https://app.pinecone.io/)\n",
    "try:\n",
    "    pc = Pinecone(api_key=PINECONE_API_KEY)\n",
    "    print(f\"✅ Connected to Pinecone!\")\n",
    "except Exception as e:\n",
    "    print(\"❌ Failed to connect:\", e)\n",
    "\n",
    "index_name = \"book-embeddings\"\n",
    "#index_name = \"quickstart\"\n",
    "\n",
    "from pinecone import exceptions\n",
    "\n",
    "try:\n",
    "    pc.create_index(\n",
    "        name=index_name,\n",
    "        dimension=384,\n",
    "        metric=\"cosine\",\n",
    "        spec=ServerlessSpec(cloud='aws', region='us-east-1')\n",
    "    )\n",
    "    print(\"✅ Índice creado correctamente.\")\n",
    "except exceptions.PineconeApiException as e:\n",
    "    if \"ALREADY_EXISTS\" in str(e):\n",
    "        print(\"📌 El índice ya existe. Usando el existente.\")\n",
    "    else:\n",
    "        raise e\n",
    "\n",
    "\n",
    "index = pc.Index(index_name)\n",
    "\n",
    "# Borrar vectores del índice si ya había\n",
    "stats = index.describe_index_stats()\n",
    "if stats.get('total_vector_count', 0) > 0:\n",
    "    index.delete(delete_all=True)\n",
    "    print(\"🗑️ Vectores antiguos borrados.\")\n",
    "else:\n",
    "    print(\"ℹ️ Índice ya estaba vacío.\")\n",
    "\n",
    "\n",
    "\n"
   ]
  },
  {
   "cell_type": "code",
   "execution_count": 45,
   "metadata": {},
   "outputs": [
    {
     "name": "stdout",
     "output_type": "stream",
     "text": [
      "0    abandonment-in-god, biography, catholic, chełm...\n",
      "1    _pilar, _sindy, abandonment-in-god, anxiety, a...\n",
      "2    catholic, chełmińska, christ, christianity, de...\n",
      "Name: tags, dtype: object\n"
     ]
    }
   ],
   "source": [
    "# 3. Carga tus modelos ya entrenados\n",
    "model = joblib.load(\"../model/book_tagging_pipeline_sentence_bert.joblib\")\n",
    "clf = joblib.load(\"../model/book_tagging_pipeline.joblib\")\n",
    "mlb = joblib.load(\"../model/book_tagging_pipeline_mlb.joblib\")\n",
    "\n",
    "# %%\n",
    "# 4. Carga tus libros originales y sube a Pinecone\n",
    "df = pd.read_csv(\"../data/processed/books.csv\")\n",
    "df['text'] = df['book_title'].fillna('') + '. ' + df['blurb'].fillna('')\n",
    "\n",
    "# Ensure 'tags' column does not contain NaN values\n",
    "df['tags'] = df['tags'].fillna('')\n",
    "\n",
    "print(df['tags'].head(3))"
   ]
  },
  {
   "cell_type": "code",
   "execution_count": 46,
   "metadata": {},
   "outputs": [
    {
     "data": {
      "application/vnd.jupyter.widget-view+json": {
       "model_id": "324a90b040a64b0f834ea3173eddf401",
       "version_major": 2,
       "version_minor": 0
      },
      "text/plain": [
       "Batches:   0%|          | 0/37 [00:00<?, ?it/s]"
      ]
     },
     "metadata": {},
     "output_type": "display_data"
    },
    {
     "name": "stdout",
     "output_type": "stream",
     "text": [
      "⚠️ Namespace not found. Skipping deletion.\n",
      "✅ Embeddings uploaded to Pinecone.\n",
      "📊 Vectores cargados en el índice: 0\n",
      "res = {'matches': [], 'namespace': '', 'usage': {'read_units': 1}}\n"
     ]
    }
   ],
   "source": [
    "# Generate embeddings (if not already saved)\n",
    "X_embeddings = model.encode(df['text'].tolist(), show_progress_bar=True)\n",
    "\n",
    "# Prepare data for Pinecone\n",
    "pinecone_data = []\n",
    "for idx, (vec, tags) in enumerate(zip(X_embeddings, df['tags'])):\n",
    "    # Ensure tags are strings and handle NaN or invalid values\n",
    "    if isinstance(tags, list):\n",
    "        tags = ','.join(tags)  # Convert list to comma-separated string\n",
    "    elif pd.isna(tags) or not isinstance(tags, str):\n",
    "        tags = ''  # Replace NaN or invalid values with an empty string\n",
    "\n",
    "    pinecone_data.append((\n",
    "        str(idx),\n",
    "        vec.tolist(),\n",
    "        {\"tags\": tags}\n",
    "    ))\n",
    "\n",
    "# Delete existing data in Pinecone (if any)\n",
    "try:\n",
    "    index.delete(delete_all=True)\n",
    "except pinecone.exceptions.NotFoundException:\n",
    "    print(\"⚠️ Namespace not found. Skipping deletion.\")\n",
    "\n",
    "# Upload embeddings to Pinecone in batches of 1000\n",
    "batch_size = 1000\n",
    "for i in range(0, len(pinecone_data), batch_size):\n",
    "    batch = pinecone_data[i:i + batch_size]\n",
    "    index.upsert(vectors=batch)\n",
    "\n",
    "print(\"✅ Embeddings uploaded to Pinecone.\")\n",
    "\n",
    "# Ver cuántos vectores hay almacenados\n",
    "stats = index.describe_index_stats()\n",
    "print(f\"📊 Vectores cargados en el índice: {stats['total_vector_count']}\")\n",
    "\n",
    "# Comprueba que la consulta devuelve algo:\n",
    "query_vector = X_embeddings[0]  # el primer libro\n",
    "res = index.query(vector=query_vector.tolist(), top_k=3, include_metadata=True)\n",
    "print(f\"res = {res}\")"
   ]
  },
  {
   "cell_type": "code",
   "execution_count": 47,
   "metadata": {},
   "outputs": [
    {
     "name": "stdout",
     "output_type": "stream",
     "text": [
      "Tags por Logistic Regression: ['biography']\n",
      "Tags por Pinecone: []\n",
      "Tags combinados (fusión): []\n"
     ]
    }
   ],
   "source": [
    "# 5. Función de predicción combinada (ensemble)\n",
    "def predict_with_ensemble(title, blurb, top_k=5, threshold=0.3):\n",
    "    text = title + \". \" + blurb\n",
    "    embedding = model.encode([text])[0]\n",
    "    \n",
    "    # A. Predict con Logistic Regression\n",
    "    probs = np.array([estimator.predict_proba(embedding.reshape(1, -1))[0][1]\n",
    "                      for estimator in clf.estimators_])\n",
    "    pred_lr = (probs >= threshold).astype(int)  # Ensure this remains a NumPy array\n",
    "    pred_lr = np.array([pred_lr])  # Ensure pred_lr is 2D for mlb.inverse_transform\n",
    "    tags_lr = mlb.inverse_transform(pred_lr)[0]\n",
    "    \n",
    "    # B. Predict con Pinecone (top-K más cercanos)\n",
    "    pinecone_result = index.query(vector=embedding.tolist(), top_k=top_k, include_metadata=True)\n",
    "    tag_counter = {}\n",
    "    for match in pinecone_result.matches:\n",
    "        if 'tags' in match.metadata and match.metadata['tags']:\n",
    "            for tag in match.metadata['tags'].split(','):\n",
    "                tag_counter[tag.strip()] = tag_counter.get(tag.strip(), 0) + 1\n",
    "    \n",
    "    tags_pinecone = [tag for tag, count in tag_counter.items() if count >= 1]\n",
    "\n",
    "    # C. Fusionar (por unión o intersección, aquí hacemos unión)\n",
    "    # final_tags = sorted(set(tags_lr) | set(tags_pinecone))\n",
    "    # por intersección: \n",
    "    final_tags = sorted(set(tags_lr) & set(tags_pinecone))\n",
    "\n",
    "    return {\n",
    "        \"tags_logistic\": sorted(tags_lr),\n",
    "        \"tags_pinecone\": sorted(tags_pinecone),\n",
    "        \"tags_fusion\": final_tags\n",
    "    }\n",
    "\n",
    "# %%\n",
    "# 6. Prueba con libro desconocido para ti\n",
    "result = predict_with_ensemble(DEFAULT_BOOK_TITLE, DEFAULT_BOOK_BLURB)\n",
    "\n",
    "print(\"Tags por Logistic Regression:\", result[\"tags_logistic\"])\n",
    "print(\"Tags por Pinecone:\", result[\"tags_pinecone\"])\n",
    "print(\"Tags combinados (fusión):\", result[\"tags_fusion\"])"
   ]
  }
 ],
 "metadata": {
  "kernelspec": {
   "display_name": "base",
   "language": "python",
   "name": "python3"
  },
  "language_info": {
   "codemirror_mode": {
    "name": "ipython",
    "version": 3
   },
   "file_extension": ".py",
   "mimetype": "text/x-python",
   "name": "python",
   "nbconvert_exporter": "python",
   "pygments_lexer": "ipython3",
   "version": "3.12.7"
  }
 },
 "nbformat": 4,
 "nbformat_minor": 2
}
