{
 "cells": [
  {
   "cell_type": "code",
   "execution_count": 1,
   "metadata": {},
   "outputs": [
    {
     "data": {
      "application/vnd.jupyter.widget-view+json": {
       "model_id": "b94a94fd41c94657a4c4feb03546894b",
       "version_major": 2,
       "version_minor": 0
      },
      "text/plain": [
       "Batches:   0%|          | 0/32 [00:00<?, ?it/s]"
      ]
     },
     "metadata": {},
     "output_type": "display_data"
    },
    {
     "name": "stdout",
     "output_type": "stream",
     "text": [
      "Fitting 2 folds for each of 1 candidates, totalling 2 fits\n",
      "Mejores hiperparámetros: {'estimator__max_depth': 5, 'estimator__min_samples_leaf': 2, 'estimator__n_estimators': 5}\n",
      "Mejor puntuación (CV): 0.1970418515714289\n",
      "Puntuación final en test: 0.02\n"
     ]
    },
    {
     "data": {
      "text/plain": [
       "['../model/book_tagging_rf_mlb.joblib']"
      ]
     },
     "execution_count": 1,
     "metadata": {},
     "output_type": "execute_result"
    }
   ],
   "source": [
    "import numpy as np\n",
    "import pandas as pd\n",
    "import joblib\n",
    "\n",
    "from sentence_transformers import SentenceTransformer\n",
    "from sklearn.ensemble import RandomForestClassifier\n",
    "from sklearn.multioutput import MultiOutputClassifier\n",
    "from sklearn.model_selection import GridSearchCV, train_test_split\n",
    "from sklearn.preprocessing import MultiLabelBinarizer\n",
    "\n",
    "# 1) Cargar datos\n",
    "books_df = pd.read_csv(\"../data/raw/goodreads_data.csv\")\n",
    "\n",
    "# 2) Renombrar columnas\n",
    "books_df.rename(columns={\n",
    "    \"Book\": \"book_title\",\n",
    "    \"Description\": \"blurb\",\n",
    "    \"Genres\": \"tags\"\n",
    "}, inplace=True)\n",
    "\n",
    "# 3) Transformar 'tags' a minúscula y guiones, quedando en un solo string separado por comas\n",
    "#    Ejemplo: \"['Science Fiction', 'Fantasy']\" => \"science-fiction,fantasy\"\n",
    "books_df[\"tags\"] = books_df[\"tags\"].fillna(\"[]\").apply(\n",
    "    lambda x: \", \".join(\n",
    "        tag.strip().lower().replace(\" \", \"-\") for tag in eval(x)\n",
    "    )\n",
    ")\n",
    "\n",
    "# 4) Seleccionar 1000 registros (muestra aleatoria)\n",
    "books_df = books_df.sample(1000, random_state=42)\n",
    "\n",
    "# 5) Llenar nulos si quedara alguno y crear columna 'text'\n",
    "books_df[\"book_title\"] = books_df[\"book_title\"].fillna(\"\")\n",
    "books_df[\"blurb\"] = books_df[\"blurb\"].fillna(\"\")\n",
    "books_df[\"tags\"] = books_df[\"tags\"].fillna(\"\")\n",
    "books_df[\"text\"] = books_df[\"book_title\"] + \". \" + books_df[\"blurb\"]\n",
    "\n",
    "# 6) Convertir la columna 'tags' en listas para MultiLabelBinarizer\n",
    "#    Ahora 'tags' es un string \"science-fiction,fantasy\"\n",
    "#    Lo dividimos por comas (si está vacío, quedará lista vacía)\n",
    "def parse_comma_tags(s: str):\n",
    "    return [tag.strip() for tag in s.split(\",\") if tag.strip()]\n",
    "\n",
    "books_df[\"list_tags\"] = books_df[\"tags\"].apply(parse_comma_tags)\n",
    "\n",
    "# 7) Cargar Sentence-BERT y vectorizar\n",
    "model = SentenceTransformer('sentence-transformers/all-MiniLM-L6-v2') \n",
    "X = model.encode(books_df['text'].tolist(), show_progress_bar=True)\n",
    "\n",
    "# 8) Binarizar las etiquetas\n",
    "mlb = MultiLabelBinarizer()\n",
    "y = mlb.fit_transform(books_df['list_tags'])\n",
    "\n",
    "# 9) Separar train y test\n",
    "X_train, X_test, y_train, y_test = train_test_split(\n",
    "    X, y, test_size=0.2, random_state=42\n",
    ")\n",
    "\n",
    "# 10) Construir el Random Forest en modo multi-output\n",
    "rf_base = RandomForestClassifier(random_state=42)\n",
    "multi_rf = MultiOutputClassifier(rf_base)\n",
    "\n",
    "# 11) Definir la grilla de hiperparámetros\n",
    "param_grid = {\n",
    "    'estimator__n_estimators': [5],\n",
    "    'estimator__max_depth': [5],\n",
    "    'estimator__min_samples_leaf': [2]\n",
    "}\n",
    "\n",
    "# 12) GridSearchCV\n",
    "grid_search = GridSearchCV(\n",
    "    multi_rf,\n",
    "    param_grid=param_grid,\n",
    "    cv=2, \n",
    "    scoring='f1_micro',\n",
    "    n_jobs=-1,\n",
    "    verbose=2\n",
    ")\n",
    "\n",
    "grid_search.fit(X_train, y_train)\n",
    "\n",
    "print(\"Mejores hiperparámetros:\", grid_search.best_params_)\n",
    "print(\"Mejor puntuación (CV):\", grid_search.best_score_)\n",
    "\n",
    "best_rf = grid_search.best_estimator_\n",
    "\n",
    "# 13) Evaluar en test\n",
    "test_score = best_rf.score(X_test, y_test)\n",
    "print(\"Puntuación final en test:\", test_score)\n",
    "\n",
    "# 14) Guardar modelo y binarizador\n",
    "joblib.dump(best_rf, \"../model/book_tagging_rf.joblib\")\n",
    "joblib.dump(mlb, \"../model/book_tagging_rf_mlb.joblib\")\n"
   ]
  }
 ],
 "metadata": {
  "kernelspec": {
   "display_name": "base",
   "language": "python",
   "name": "python3"
  },
  "language_info": {
   "codemirror_mode": {
    "name": "ipython",
    "version": 3
   },
   "file_extension": ".py",
   "mimetype": "text/x-python",
   "name": "python",
   "nbconvert_exporter": "python",
   "pygments_lexer": "ipython3",
   "version": "3.12.7"
  }
 },
 "nbformat": 4,
 "nbformat_minor": 2
}
