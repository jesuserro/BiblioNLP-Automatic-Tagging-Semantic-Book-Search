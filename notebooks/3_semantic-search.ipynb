{
 "cells": [
  {
   "cell_type": "code",
   "execution_count": 1,
   "metadata": {},
   "outputs": [
    {
     "name": "stdout",
     "output_type": "stream",
     "text": [
      "WARNING:tensorflow:From c:\\Users\\jesus\\anaconda3\\Lib\\site-packages\\tf_keras\\src\\losses.py:2976: The name tf.losses.sparse_softmax_cross_entropy is deprecated. Please use tf.compat.v1.losses.sparse_softmax_cross_entropy instead.\n",
      "\n"
     ]
    },
    {
     "data": {
      "application/vnd.jupyter.widget-view+json": {
       "model_id": "2adfc7ea957d4a6a94a14195d76c57eb",
       "version_major": 2,
       "version_minor": 0
      },
      "text/plain": [
       "Batches:   0%|          | 0/37 [00:00<?, ?it/s]"
      ]
     },
     "metadata": {},
     "output_type": "display_data"
    },
    {
     "data": {
      "text/plain": [
       "['../model/book_recommendation_by_tags.joblib']"
      ]
     },
     "execution_count": 1,
     "metadata": {},
     "output_type": "execute_result"
    }
   ],
   "source": [
    "# Recomendación de libros basada en tags\n",
    "\n",
    "import pandas as pd\n",
    "from sentence_transformers import SentenceTransformer\n",
    "from sklearn.metrics.pairwise import cosine_similarity\n",
    "import numpy as np\n",
    "import joblib\n",
    "\n",
    "# 1. Cargar el dataset\n",
    "df = pd.read_csv('../data/processed/books.csv')\n",
    "\n",
    "# 2. Combinar título y blurb como entrada textual\n",
    "df['text'] = df['book_title'].fillna('') + '. ' + df['blurb'].fillna('')\n",
    "\n",
    "# 3. Generar embeddings para los libros\n",
    "model = SentenceTransformer('paraphrase-multilingual-MiniLM-L12-v2')\n",
    "book_embeddings = model.encode(df['text'].tolist(), show_progress_bar=True)\n",
    "\n",
    "# 4. Función para recomendar libros basados en tags\n",
    "def recommend_books_by_tags(input_tags, top_n=5):\n",
    "    # Combinar los tags en un único string\n",
    "    tags_text = ', '.join(input_tags)\n",
    "    \n",
    "    # Generar embeddings para los tags proporcionados\n",
    "    tags_embedding = model.encode([tags_text])\n",
    "    \n",
    "    # Calcular la similitud coseno entre los embeddings de los libros y los tags\n",
    "    similarities = cosine_similarity(tags_embedding, book_embeddings).flatten()\n",
    "    \n",
    "    # Obtener los índices de los libros más similares\n",
    "    top_indices = similarities.argsort()[-top_n:][::-1]\n",
    "    \n",
    "    # Retornar los títulos de los libros recomendados\n",
    "    recommended_books = df.iloc[top_indices][['book_title', 'tags']]\n",
    "    return recommended_books\n",
    "\n",
    "# 5. Guardar modelo y objetos necesarios\n",
    "joblib.dump(model, '../model/book_recommendation_by_tags.joblib')\n"
   ]
  },
  {
   "cell_type": "code",
   "execution_count": 2,
   "metadata": {},
   "outputs": [
    {
     "name": "stdout",
     "output_type": "stream",
     "text": [
      "Libros recomendados:\n",
      "                                            book_title  \\\n",
      "476  El confiado abandono en la divina Providencia:...   \n",
      "732                                 Spiritual Theology   \n",
      "806     Introducción a la fenomenología de la religión   \n",
      "213                           Meditaciones sobre la fe   \n",
      "741  The Spiritual Life: A Treatise on Ascetical an...   \n",
      "\n",
      "                                                  tags  \n",
      "476  005-ladder-maybe-someday, abandonment-in-god, ...  \n",
      "732            catholic, devotional, theology, to-read  \n",
      "806             anti-catholics, newage, not-interested  \n",
      "213  _sindy, 003-ladder-medium-term, abandonment-in...  \n",
      "741            catholic, devotional, theology, to-read  \n"
     ]
    }
   ],
   "source": [
    "# 5. Ejemplo de uso 1\n",
    "input_tags = [\"faith\", \"spirituality\", \"selfhelp\"]\n",
    "recommended_books = recommend_books_by_tags(input_tags, top_n=5)\n",
    "print(\"Libros recomendados:\")\n",
    "print(recommended_books)"
   ]
  },
  {
   "cell_type": "code",
   "execution_count": 3,
   "metadata": {},
   "outputs": [
    {
     "name": "stdout",
     "output_type": "stream",
     "text": [
      "Libros recomendados:\n",
      "                                           book_title  \\\n",
      "613                       Art of the Short Story, The   \n",
      "508                   Infinite Space, Infinite God II   \n",
      "920                     One hundred years of solitude   \n",
      "718  The Magician’s Nephew (Chronicles of Narnia, #6)   \n",
      "972                                      La tempestad   \n",
      "\n",
      "                                                  tags  \n",
      "613  classics, fiction, literary-criticism, to-read...  \n",
      "508  astronomy, catholic, fiction, historiascortas,...  \n",
      "920                                literature, to-read  \n",
      "718               catholic, children, fiction, to-read  \n",
      "972                                literature, to-read  \n"
     ]
    }
   ],
   "source": [
    "# 5. Ejemplo de uso 2\n",
    "input_tags = [\"adventures\", \"fiction\", \"fantasy\"]\n",
    "recommended_books = recommend_books_by_tags(input_tags, top_n=5)\n",
    "print(\"Libros recomendados:\")\n",
    "print(recommended_books)"
   ]
  }
 ],
 "metadata": {
  "kernelspec": {
   "display_name": "base",
   "language": "python",
   "name": "python3"
  },
  "language_info": {
   "codemirror_mode": {
    "name": "ipython",
    "version": 3
   },
   "file_extension": ".py",
   "mimetype": "text/x-python",
   "name": "python",
   "nbconvert_exporter": "python",
   "pygments_lexer": "ipython3",
   "version": "3.12.7"
  }
 },
 "nbformat": 4,
 "nbformat_minor": 2
}
