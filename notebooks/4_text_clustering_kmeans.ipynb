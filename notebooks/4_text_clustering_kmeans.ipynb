{
 "cells": [
  {
   "cell_type": "code",
   "execution_count": 2,
   "metadata": {},
   "outputs": [
    {
     "name": "stdout",
     "output_type": "stream",
     "text": [
      "[Cluster 2] La historia de un dragón que protege una aldea\n",
      "[Cluster 2] Un caballero lucha contra un monstruo en una cueva\n",
      "[Cluster 0] Cómo hacer pan casero con pocos ingredientes\n",
      "[Cluster 0] Recetas veganas fáciles para el día a día\n",
      "[Cluster 1] La vida secreta de los gatos en la ciudad\n",
      "[Cluster 1] Por qué los perros son los mejores amigos del hombre\n"
     ]
    },
    {
     "name": "stderr",
     "output_type": "stream",
     "text": [
      "c:\\Users\\jesus\\anaconda3\\Lib\\site-packages\\sklearn\\cluster\\_kmeans.py:1429: UserWarning: KMeans is known to have a memory leak on Windows with MKL, when there are less chunks than available threads. You can avoid it by setting the environment variable OMP_NUM_THREADS=1.\n",
      "  warnings.warn(\n"
     ]
    }
   ],
   "source": [
    "from sentence_transformers import SentenceTransformer\n",
    "from sklearn.cluster import KMeans\n",
    "import matplotlib.pyplot as plt\n",
    "\n",
    "texts = [\n",
    "    \"La historia de un dragón que protege una aldea\",\n",
    "    \"Un caballero lucha contra un monstruo en una cueva\",\n",
    "    \"Cómo hacer pan casero con pocos ingredientes\",\n",
    "    \"Recetas veganas fáciles para el día a día\",\n",
    "    \"La vida secreta de los gatos en la ciudad\",\n",
    "    \"Por qué los perros son los mejores amigos del hombre\"\n",
    "]\n",
    "# 1. Generar embeddings\n",
    "model = SentenceTransformer('paraphrase-multilingual-MiniLM-L12-v2')\n",
    "embeddings = model.encode(texts)\n",
    "\n",
    "# 2. Agrupar los textos en 3 clusters\n",
    "kmeans = KMeans(n_clusters=3, random_state=42)\n",
    "labels = kmeans.fit_predict(embeddings)\n",
    "\n",
    "# 3. Mostrar resultados agrupados\n",
    "for i, text in enumerate(texts):\n",
    "    print(f\"[Cluster {labels[i]}] {text}\")\n"
   ]
  }
 ],
 "metadata": {
  "kernelspec": {
   "display_name": "base",
   "language": "python",
   "name": "python3"
  },
  "language_info": {
   "codemirror_mode": {
    "name": "ipython",
    "version": 3
   },
   "file_extension": ".py",
   "mimetype": "text/x-python",
   "name": "python",
   "nbconvert_exporter": "python",
   "pygments_lexer": "ipython3",
   "version": "3.12.7"
  }
 },
 "nbformat": 4,
 "nbformat_minor": 2
}
