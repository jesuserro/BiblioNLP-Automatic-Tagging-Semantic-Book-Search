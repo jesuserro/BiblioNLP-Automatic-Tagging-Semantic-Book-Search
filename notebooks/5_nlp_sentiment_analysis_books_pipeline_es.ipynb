{
 "cells": [
  {
   "cell_type": "markdown",
   "metadata": {},
   "source": [
    "# NLP: Análisis de Sentimientos con VADER y RoBERTa\n",
    "Análisis aplicado a descripciones de libros en español."
   ]
  },
  {
   "cell_type": "code",
   "execution_count": 1,
   "metadata": {},
   "outputs": [],
   "source": [
    "# Librerías básicas\n",
    "import pandas as pd\n",
    "import numpy as np\n",
    "import matplotlib.pyplot as plt\n",
    "import seaborn as sns\n",
    "import warnings\n",
    "import joblib\n",
    "warnings.filterwarnings(\"ignore\")"
   ]
  },
  {
   "cell_type": "code",
   "execution_count": 2,
   "metadata": {},
   "outputs": [
    {
     "data": {
      "text/html": [
       "<div>\n",
       "<style scoped>\n",
       "    .dataframe tbody tr th:only-of-type {\n",
       "        vertical-align: middle;\n",
       "    }\n",
       "\n",
       "    .dataframe tbody tr th {\n",
       "        vertical-align: top;\n",
       "    }\n",
       "\n",
       "    .dataframe thead th {\n",
       "        text-align: right;\n",
       "    }\n",
       "</style>\n",
       "<table border=\"1\" class=\"dataframe\">\n",
       "  <thead>\n",
       "    <tr style=\"text-align: right;\">\n",
       "      <th></th>\n",
       "      <th>blurb</th>\n",
       "      <th>tags</th>\n",
       "      <th>book_title</th>\n",
       "    </tr>\n",
       "  </thead>\n",
       "  <tbody>\n",
       "    <tr>\n",
       "      <th>0</th>\n",
       "      <td>Walter Ciszek, jesuita norteamericano, entró e...</td>\n",
       "      <td>abandonment-in-god, biography, catholic, chełm...</td>\n",
       "      <td>Caminando por valles oscuros: Memorias de un j...</td>\n",
       "    </tr>\n",
       "    <tr>\n",
       "      <th>1</th>\n",
       "      <td>&lt;p&gt;A chance encounter with a reproduction of R...</td>\n",
       "      <td>_pilar, _sindy, abandonment-in-god, anxiety, a...</td>\n",
       "      <td>The Return of the Prodigal Son: A Story of Hom...</td>\n",
       "    </tr>\n",
       "    <tr>\n",
       "      <th>2</th>\n",
       "      <td>A pesar de nuestros mejores esfuerzos, muchos ...</td>\n",
       "      <td>catholic, chełmińska, christ, christianity, de...</td>\n",
       "      <td>Liberado: Una Guía Práctica para la Liberación</td>\n",
       "    </tr>\n",
       "    <tr>\n",
       "      <th>3</th>\n",
       "      <td>Esta breve obra se compone de cartas escritas ...</td>\n",
       "      <td>abandonment-in-god, catholic, christ, classics...</td>\n",
       "      <td>El Abandono en la Divina Providencia: Clásicos...</td>\n",
       "    </tr>\n",
       "    <tr>\n",
       "      <th>4</th>\n",
       "      <td>Resulta difícil no emocionarse varias veces al...</td>\n",
       "      <td>adventures, atheism, biography, catholic, chur...</td>\n",
       "      <td>Una familia de bandidos en 1793</td>\n",
       "    </tr>\n",
       "  </tbody>\n",
       "</table>\n",
       "</div>"
      ],
      "text/plain": [
       "                                               blurb  \\\n",
       "0  Walter Ciszek, jesuita norteamericano, entró e...   \n",
       "1  <p>A chance encounter with a reproduction of R...   \n",
       "2  A pesar de nuestros mejores esfuerzos, muchos ...   \n",
       "3  Esta breve obra se compone de cartas escritas ...   \n",
       "4  Resulta difícil no emocionarse varias veces al...   \n",
       "\n",
       "                                                tags  \\\n",
       "0  abandonment-in-god, biography, catholic, chełm...   \n",
       "1  _pilar, _sindy, abandonment-in-god, anxiety, a...   \n",
       "2  catholic, chełmińska, christ, christianity, de...   \n",
       "3  abandonment-in-god, catholic, christ, classics...   \n",
       "4  adventures, atheism, biography, catholic, chur...   \n",
       "\n",
       "                                          book_title  \n",
       "0  Caminando por valles oscuros: Memorias de un j...  \n",
       "1  The Return of the Prodigal Son: A Story of Hom...  \n",
       "2     Liberado: Una Guía Práctica para la Liberación  \n",
       "3  El Abandono en la Divina Providencia: Clásicos...  \n",
       "4                    Una familia de bandidos en 1793  "
      ]
     },
     "execution_count": 2,
     "metadata": {},
     "output_type": "execute_result"
    }
   ],
   "source": [
    "# Cargar datos\n",
    "file_path = \"../data/processed/books.csv\"\n",
    "df = pd.read_csv(file_path)\n",
    "df.columns = df.columns.str.lower().str.replace(\" \", \"_\").str.replace(\".\", \"_\").str.replace(\":\", \"\")\n",
    "df = df[[\"blurb\", \"tags\", \"book_title\"]].dropna(subset=[\"blurb\"]).head(500)\n",
    "df.head()"
   ]
  },
  {
   "cell_type": "markdown",
   "metadata": {},
   "source": [
    "## Preprocesamiento NLP: Tokenización con NLTK"
   ]
  },
  {
   "cell_type": "code",
   "execution_count": 3,
   "metadata": {},
   "outputs": [
    {
     "name": "stderr",
     "output_type": "stream",
     "text": [
      "[nltk_data] Downloading package punkt to\n",
      "[nltk_data]     C:\\Users\\jesus\\AppData\\Roaming\\nltk_data...\n",
      "[nltk_data]   Package punkt is already up-to-date!\n",
      "[nltk_data] Downloading package averaged_perceptron_tagger to\n",
      "[nltk_data]     C:\\Users\\jesus\\AppData\\Roaming\\nltk_data...\n",
      "[nltk_data]   Package averaged_perceptron_tagger is already up-to-\n",
      "[nltk_data]       date!\n",
      "[nltk_data] Downloading package averaged_perceptron_tagger_eng to\n",
      "[nltk_data]     C:\\Users\\jesus\\AppData\\Roaming\\nltk_data...\n",
      "[nltk_data]   Package averaged_perceptron_tagger_eng is already up-to-\n",
      "[nltk_data]       date!\n",
      "[nltk_data] Downloading package vader_lexicon to\n",
      "[nltk_data]     C:\\Users\\jesus\\AppData\\Roaming\\nltk_data...\n",
      "[nltk_data]   Package vader_lexicon is already up-to-date!\n"
     ]
    },
    {
     "data": {
      "text/plain": [
       "True"
      ]
     },
     "execution_count": 3,
     "metadata": {},
     "output_type": "execute_result"
    }
   ],
   "source": [
    "import nltk\n",
    "from nltk.tokenize import PunktSentenceTokenizer, TreebankWordTokenizer\n",
    "nltk.download(\"punkt\")\n",
    "nltk.download(\"averaged_perceptron_tagger\")\n",
    "nltk.download(\"averaged_perceptron_tagger_eng\")\n",
    "nltk.download(\"vader_lexicon\")"
   ]
  },
  {
   "cell_type": "code",
   "execution_count": 4,
   "metadata": {},
   "outputs": [
    {
     "name": "stdout",
     "output_type": "stream",
     "text": [
      "['St', 'John', 'of', 'the', 'Cross', 'testifies', 'to', 'a', 'God', 'who', 'longs', 'to', 'meet', 'us', 'in', 'our', 'deepest', 'need', '.', 'Whilst', 'rejection', 'and', 'imprisonment', 'played', 'their', 'part', 'in', 'the', 'life', 'of', 'this', 'sixteenth-century', 'Spanish', 'friar', ',', 'John', \"'s\", 'poetry', 'and', 'prose', 'reveal', 'the', 'beauty', 'and', 'power', 'of', 'a', 'wondrous', 'God', '.', 'It', 'gives', 'us', 'courage', 'to', 'believe', 'in', 'the', 'possibility', 'of', 'change', 'in', 'our', 'own', 'lives', ',', 'however', 'unlikely', 'or', 'impossible', 'this', 'may', 'seem.', '<', 'br', '/', '>', 'Father', 'Iain', 'Matthew', 'uses', 'this', 'classic', 'inspirational', 'Christian', 'writing', 'as', 'his', 'starting', 'point', ',', 'and', 'offers', 'five', 'interpretations', 'which', 'make', 'its', 'richness', 'relevant', 'to', 'the', 'modern', 'reader', '.']\n",
      "[('St', 'NNP'), ('John', 'NNP'), ('of', 'IN'), ('the', 'DT'), ('Cross', 'NNP'), ('testifies', 'NNS'), ('to', 'TO'), ('a', 'DT'), ('God', 'NNP'), ('who', 'WP'), ('longs', 'VBZ'), ('to', 'TO'), ('meet', 'VB'), ('us', 'PRP'), ('in', 'IN'), ('our', 'PRP$'), ('deepest', 'JJS'), ('need', 'NN'), ('.', '.'), ('Whilst', 'NNP'), ('rejection', 'NN'), ('and', 'CC'), ('imprisonment', 'NN'), ('played', 'VBD'), ('their', 'PRP$'), ('part', 'NN'), ('in', 'IN'), ('the', 'DT'), ('life', 'NN'), ('of', 'IN'), ('this', 'DT'), ('sixteenth-century', 'JJ'), ('Spanish', 'JJ'), ('friar', 'NN'), (',', ','), ('John', 'NNP'), (\"'s\", 'POS'), ('poetry', 'NN'), ('and', 'CC'), ('prose', 'JJ'), ('reveal', 'NN'), ('the', 'DT'), ('beauty', 'NN'), ('and', 'CC'), ('power', 'NN'), ('of', 'IN'), ('a', 'DT'), ('wondrous', 'JJ'), ('God', 'NNP'), ('.', '.'), ('It', 'PRP'), ('gives', 'VBZ'), ('us', 'PRP'), ('courage', 'NN'), ('to', 'TO'), ('believe', 'VB'), ('in', 'IN'), ('the', 'DT'), ('possibility', 'NN'), ('of', 'IN'), ('change', 'NN'), ('in', 'IN'), ('our', 'PRP$'), ('own', 'JJ'), ('lives', 'NNS'), (',', ','), ('however', 'RB'), ('unlikely', 'JJ'), ('or', 'CC'), ('impossible', 'JJ'), ('this', 'DT'), ('may', 'MD'), ('seem.', 'VB'), ('<', 'NNP'), ('br', 'NN'), ('/', 'NNP'), ('>', 'NNP'), ('Father', 'NNP'), ('Iain', 'NNP'), ('Matthew', 'NNP'), ('uses', 'VBZ'), ('this', 'DT'), ('classic', 'JJ'), ('inspirational', 'JJ'), ('Christian', 'NNP'), ('writing', 'NN'), ('as', 'IN'), ('his', 'PRP$'), ('starting', 'VBG'), ('point', 'NN'), (',', ','), ('and', 'CC'), ('offers', 'VBZ'), ('five', 'CD'), ('interpretations', 'NNS'), ('which', 'WDT'), ('make', 'VBP'), ('its', 'PRP$'), ('richness', 'NN'), ('relevant', 'NN'), ('to', 'TO'), ('the', 'DT'), ('modern', 'JJ'), ('reader', 'NN'), ('.', '.')]\n"
     ]
    }
   ],
   "source": [
    "tokenizer_sent = PunktSentenceTokenizer()\n",
    "tokenizer_words = TreebankWordTokenizer()\n",
    "example = df[\"blurb\"].iloc[65]\n",
    "sentences = tokenizer_sent.tokenize(example)\n",
    "tokens = []\n",
    "for sentence in sentences:\n",
    "    tokens.extend(tokenizer_words.tokenize(sentence))\n",
    "print(tokens)\n",
    "print(nltk.pos_tag(tokens))"
   ]
  },
  {
   "cell_type": "markdown",
   "metadata": {},
   "source": [
    "## Análisis de Sentimientos con VADER"
   ]
  },
  {
   "cell_type": "code",
   "execution_count": 5,
   "metadata": {},
   "outputs": [
    {
     "data": {
      "image/png": "[encoded data removed]",
      "text/plain": [
       "<Figure size 640x480 with 1 Axes>"
      ]
     },
     "metadata": {},
     "output_type": "display_data"
    }
   ],
   "source": [
    "from nltk.sentiment import SentimentIntensityAnalyzer\n",
    "sia = SentimentIntensityAnalyzer()\n",
    "pol_scores = {}\n",
    "for i, row in df.iterrows():\n",
    "    text = row[\"blurb\"]\n",
    "    scores = sia.polarity_scores(text)\n",
    "    pol_scores[i] = scores\n",
    "vaders = pd.DataFrame(pol_scores).T\n",
    "vaders = pd.concat([df.reset_index(drop=True), vaders.reset_index(drop=True)], axis=1)\n",
    "sns.histplot(vaders[\"compound\"], kde=True)\n",
    "plt.title(\"Distribución de sentimiento según VADER\")\n",
    "plt.grid(True, linestyle=\"--\", alpha=0.5)\n",
    "plt.xlabel(\"Sentimiento\")\n",
    "plt.ylabel(\"Frecuencia\")\n",
    "plt.xticks(rotation=0)\n",
    "plt.xlim(-1, 1)\n",
    "plt.ylim(0, 100)\n",
    "plt.axvline(x=0, color=\"gray\", linestyle=\"--\", label=\"Neutral\")\n",
    "plt.axvline(x=0.5, color=\"green\", linestyle=\"--\", label=\"Positivo\")\n",
    "plt.axvline(x=-0.5, color=\"red\", linestyle=\"--\", label=\"Negativo\")\n",
    "plt.legend()\n",
    "plt.tight_layout()\n",
    "\n",
    "# Show values over the bars\n",
    "for p in plt.gca().patches:\n",
    "    plt.annotate(f\"{int(p.get_height())}\", (p.get_x() + p.get_width() / 2., p.get_height()),\n",
    "                 ha=\"center\", va=\"bottom\", fontsize=8, color=\"black\", rotation=0,\n",
    "                 xytext=(0, 5), textcoords=\"offset points\")\n",
    "plt.savefig(\"../img/roberta_vader_distribution.jpg\", dpi=300, bbox_inches=\"tight\")\n",
    "plt.show()"
   ]
  },
  {
   "cell_type": "markdown",
   "metadata": {},
   "source": [
    "## Análisis de Sentimientos con RoBERTa (inglés)"
   ]
  },
  {
   "cell_type": "code",
   "execution_count": 6,
   "metadata": {},
   "outputs": [
    {
     "name": "stdout",
     "output_type": "stream",
     "text": [
      "WARNING:tensorflow:From c:\\Users\\jesus\\anaconda3\\Lib\\site-packages\\tf_keras\\src\\losses.py:2976: The name tf.losses.sparse_softmax_cross_entropy is deprecated. Please use tf.compat.v1.losses.sparse_softmax_cross_entropy instead.\n",
      "\n"
     ]
    },
    {
     "name": "stderr",
     "output_type": "stream",
     "text": [
      "Device set to use cpu\n"
     ]
    }
   ],
   "source": [
    "from transformers import pipeline, AutoTokenizer, AutoModelForSequenceClassification\n",
    "import torch\n",
    "MODEL = \"j-hartmann/emotion-english-distilroberta-base\"\n",
    "classifier = pipeline(\"text-classification\", model=MODEL, return_all_scores=True)\n",
    "tokenizer = AutoTokenizer.from_pretrained(MODEL)\n",
    "model = AutoModelForSequenceClassification.from_pretrained(MODEL)"
   ]
  },
  {
   "cell_type": "code",
   "execution_count": 7,
   "metadata": {},
   "outputs": [],
   "source": [
    "def mooder(text):\n",
    "    max_len = 512\n",
    "    encoded = tokenizer(text, return_tensors=\"pt\", max_length=max_len, truncation=True, padding=\"max_length\")\n",
    "    with torch.no_grad():\n",
    "        output = model(**encoded)\n",
    "    scores = output.logits[0].numpy()\n",
    "    return {\n",
    "        \"anger\": scores[0], \"disgust\": scores[1], \"fear\": scores[2],\n",
    "        \"joy\": scores[3], \"neutral\": scores[4], \"sadness\": scores[5],\n",
    "        \"surprise\": scores[6]\n",
    "    }"
   ]
  },
  {
   "cell_type": "code",
   "execution_count": null,
   "metadata": {},
   "outputs": [],
   "source": [
    "roberta = df[\"blurb\"].apply(mooder)\n",
    "roberta_df = pd.DataFrame(roberta.tolist())\n",
    "moods = pd.concat([df.reset_index(drop=True), roberta_df.reset_index(drop=True)], axis=1)\n",
    "moods.sample(10)"
   ]
  },
  {
   "cell_type": "code",
   "execution_count": null,
   "metadata": {},
   "outputs": [],
   "source": [
    "moods.sort_values(by=\"joy\", ascending=False).head(10)"
   ]
  },
  {
   "cell_type": "code",
   "execution_count": null,
   "metadata": {},
   "outputs": [],
   "source": [
    "sns.histplot(moods[\"sadness\"], kde=True)\n",
    "plt.title(\"Distribución de 'sadness' según RoBERTa\")\n",
    "# Grid\n",
    "plt.grid(visible=True, color=\"gray\", linestyle=\"--\", linewidth=0.5)\n",
    "plt.axvline(moods[\"sadness\"].mean(), color=\"red\", linestyle=\"--\", linewidth=1, label=\"Media\")\n",
    "plt.axvline(moods[\"sadness\"].median(), color=\"blue\", linestyle=\"--\", linewidth=1, label=\"Mediana\")\n",
    "plt.axvline(moods[\"sadness\"].mode()[0], color=\"green\", linestyle=\"--\", linewidth=1, label=\"Moda\")\n",
    "plt.legend()\n",
    "plt.xlabel(\"Puntuación de tristeza\")\n",
    "plt.ylabel(\"Frecuencia\")\n",
    "plt.title(\"Distribución de 'sadness' según RoBERTa\")\n",
    "plt.tight_layout()\n",
    "plt.grid(visible=True, color=\"gray\", linestyle=\"--\", linewidth=0.5)\n",
    "# Guardar en imagen jpg\n",
    "plt.savefig(\"../img/roberta-sadness.jpg\", dpi=300, bbox_inches=\"tight\")\n",
    "plt.show()"
   ]
  },
  {
   "cell_type": "code",
   "execution_count": null,
   "id": "232effd5",
   "metadata": {},
   "outputs": [],
   "source": [
    "# Guardar el modelo y el tokenizer\n",
    "joblib.dump(model, \"../model/sentiment_roberta_model.joblib\")\n",
    "joblib.dump(tokenizer, \"../model/sentiment_roberta_tokenizer.joblib\")"
   ]
  },
  {
   "cell_type": "code",
   "execution_count": null,
   "id": "2a236728",
   "metadata": {},
   "outputs": [],
   "source": [
    "# Mejorar la gráfica en barras mostrando los valores encima de cada barra con separación vertical\n",
    "\n",
    "sentiment_colors = { \n",
    "    \"anger\": \"#b71c1c\",  # Rojo muy oscuro (máx. negatividad)\n",
    "    \"disgust\": \"#d32f2f\",  # Rojo oscuro\n",
    "    \"fear\": \"#ef5350\",  # Rojo algo más claro\n",
    "    \"sadness\": \"#ffcdd2\",  # Tono salmón muy claro\n",
    "    \"neutral\": \"#f0f0f0\",  # Gris muy claro (punto de transición)\n",
    "    \"surprise\": \"#ffe082\",  # Amarillo pastel\n",
    "    \"joy\": \"#ffd600\"  # Amarillo vivo (máx. positividad)\n",
    "}\n",
    "\n",
    "# Calcular los valores promedio de las emociones\n",
    "emotion_means = moods.iloc[:, 3:10].mean()\n",
    "\n",
    "# Crear la gráfica\n",
    "ax = emotion_means.plot(\n",
    "    kind=\"bar\", \n",
    "    color=sentiment_colors.values(), \n",
    "    figsize=(10, 6)\n",
    ")\n",
    "\n",
    "# Añadir valores encima de cada barra con separación vertical\n",
    "for i, value in enumerate(emotion_means):\n",
    "    ax.text(i, value + 0.03, f\"{value:.2f}\", ha=\"center\", fontsize=10)  # Separación ajustada con +0.03\n",
    "\n",
    "# Configurar título, etiquetas y diseño\n",
    "plt.title(\"Distribución de emociones según RoBERTa\")\n",
    "plt.xlabel(\"Emociones\")\n",
    "plt.ylabel(\"Puntuación media\")\n",
    "plt.xticks(rotation=0)\n",
    "plt.grid(visible=True, color=\"gray\", linestyle=\"--\", linewidth=0.5)\n",
    "plt.tight_layout()\n",
    "\n",
    "# Guardar la gráfica como imagen\n",
    "plt.savefig(\"../img/roberta-emotions.jpg\", dpi=300, bbox_inches=\"tight\")\n",
    "plt.show()"
   ]
  },
  {
   "cell_type": "code",
   "execution_count": null,
   "id": "97b61a74",
   "metadata": {},
   "outputs": [],
   "source": [
    "# Calcular los valores promedio de las emociones\n",
    "emotion_means = moods.iloc[:, 3:10].mean()\n",
    "\n",
    "# Mostrar los valores promedio\n",
    "print(emotion_means)"
   ]
  }
 ],
 "metadata": {
  "kernelspec": {
   "display_name": "base",
   "language": "python",
   "name": "python3"
  },
  "language_info": {
   "codemirror_mode": {
    "name": "ipython",
    "version": 3
   },
   "file_extension": ".py",
   "mimetype": "text/x-python",
   "name": "python",
   "nbconvert_exporter": "python",
   "pygments_lexer": "ipython3",
   "version": "3.12.7"
  }
 },
 "nbformat": 4,
 "nbformat_minor": 5
}
