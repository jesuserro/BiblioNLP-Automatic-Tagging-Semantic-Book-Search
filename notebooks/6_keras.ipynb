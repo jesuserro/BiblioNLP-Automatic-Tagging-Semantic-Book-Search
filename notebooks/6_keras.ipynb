{
 "cells": [
  {
   "cell_type": "code",
   "execution_count": 8,
   "id": "9c0a0cd2",
   "metadata": {},
   "outputs": [],
   "source": [
    "# %pip install tensorflow==2.12.0\n",
    "\n",
    "import sys\n",
    "import pandas as pd\n",
    "import numpy as np\n",
    "import tensorflow as tf\n",
    "from sklearn.preprocessing import MultiLabelBinarizer\n",
    "from sentence_transformers import SentenceTransformer\n",
    "from tensorflow.keras.models import Sequential\n",
    "from tensorflow.keras.layers import Dense, Dropout\n",
    "from tensorflow.keras.optimizers import Adam\n",
    "from sklearn.model_selection import train_test_split\n",
    "from termcolor import colored\n",
    "import joblib\n",
    "\n",
    "#print(f\"Python version: {sys.version}\")\n",
    "#print(f\"Tensorflow version: {tf.__version__}\")"
   ]
  },
  {
   "cell_type": "code",
   "execution_count": 9,
   "id": "3df0b40c",
   "metadata": {},
   "outputs": [],
   "source": [
    "# 1. Cargar y preprocesar los datos\n",
    "df = pd.read_csv(\"../data/raw/goodreads_data_sample.csv\")\n",
    "\n",
    "# Normalizar columnas necesarias\n",
    "df['Book'] = df['Book'].fillna('')\n",
    "df['Description'] = df['Description'].fillna('')\n",
    "df['Genres'] = df['Genres'].fillna(\"[]\")\n",
    "\n",
    "# Crear la columna 'text' combinando título y descripción\n",
    "df['text'] = df['Book'] + \". \" + df['Description']\n",
    "\n",
    "# Convertir la columna 'Genres' de cadenas a listas reales\n",
    "df['tags'] = df['Genres'].apply(eval)"
   ]
  },
  {
   "cell_type": "code",
   "execution_count": 10,
   "id": "f3997111",
   "metadata": {},
   "outputs": [
    {
     "data": {
      "application/vnd.jupyter.widget-view+json": {
       "model_id": "863c130cd12e440692106714dd503a88",
       "version_major": 2,
       "version_minor": 0
      },
      "text/plain": [
       "Batches:   0%|          | 0/1 [00:00<?, ?it/s]"
      ]
     },
     "metadata": {},
     "output_type": "display_data"
    },
    {
     "name": "stderr",
     "output_type": "stream",
     "text": [
      "c:\\Users\\jesus\\anaconda3\\Lib\\site-packages\\keras\\src\\layers\\core\\dense.py:87: UserWarning: Do not pass an `input_shape`/`input_dim` argument to a layer. When using Sequential models, prefer using an `Input(shape)` object as the first layer in the model instead.\n",
      "  super().__init__(activity_regularizer=activity_regularizer, **kwargs)\n"
     ]
    }
   ],
   "source": [
    "# 2. Codificar las etiquetas (tags)\n",
    "mlb = MultiLabelBinarizer()\n",
    "y = mlb.fit_transform(df['tags'])\n",
    "\n",
    "# 3. Convertir texto a embeddings\n",
    "model_embed = SentenceTransformer('all-MiniLM-L6-v2')\n",
    "X_embeddings = model_embed.encode(df['text'].tolist(), show_progress_bar=True)\n",
    "\n",
    "# 4. Dividir los datos en entrenamiento y validación\n",
    "X_train, X_val, y_train, y_val = train_test_split(X_embeddings, y, test_size=0.2, random_state=42)\n",
    "\n",
    "# 5. Definir el modelo Keras\n",
    "input_dim = X_train.shape[1]\n",
    "num_classes = y_train.shape[1]\n",
    "\n",
    "model = Sequential([\n",
    "    Dense(128, activation='relu', input_shape=(input_dim,)),\n",
    "    Dropout(0.5),\n",
    "    Dense(64, activation='relu'),\n",
    "    Dense(num_classes, activation='sigmoid')  # Para clasificación multilabel\n",
    "])\n",
    "\n",
    "# Compilar el modelo\n",
    "model.compile(optimizer=Adam(learning_rate=0.001),\n",
    "              loss='binary_crossentropy',\n",
    "              metrics=['accuracy'])"
   ]
  },
  {
   "cell_type": "code",
   "execution_count": 11,
   "id": "63a3bf4e",
   "metadata": {},
   "outputs": [
    {
     "name": "stdout",
     "output_type": "stream",
     "text": [
      "Epoch 1/10\n",
      "\u001b[1m1/1\u001b[0m \u001b[32m━━━━━━━━━━━━━━━━━━━━\u001b[0m\u001b[37m\u001b[0m \u001b[1m1s\u001b[0m 1s/step - accuracy: 0.0000e+00 - loss: 0.6925 - val_accuracy: 0.0000e+00 - val_loss: 0.6880\n",
      "Epoch 2/10\n",
      "\u001b[1m1/1\u001b[0m \u001b[32m━━━━━━━━━━━━━━━━━━━━\u001b[0m\u001b[37m\u001b[0m \u001b[1m0s\u001b[0m 62ms/step - accuracy: 0.0000e+00 - loss: 0.6872 - val_accuracy: 0.0000e+00 - val_loss: 0.6868\n",
      "Epoch 3/10\n",
      "\u001b[1m1/1\u001b[0m \u001b[32m━━━━━━━━━━━━━━━━━━━━\u001b[0m\u001b[37m\u001b[0m \u001b[1m0s\u001b[0m 73ms/step - accuracy: 0.0000e+00 - loss: 0.6766 - val_accuracy: 0.5000 - val_loss: 0.6853\n",
      "Epoch 4/10\n",
      "\u001b[1m1/1\u001b[0m \u001b[32m━━━━━━━━━━━━━━━━━━━━\u001b[0m\u001b[37m\u001b[0m \u001b[1m0s\u001b[0m 63ms/step - accuracy: 0.0000e+00 - loss: 0.6767 - val_accuracy: 0.5000 - val_loss: 0.6836\n",
      "Epoch 5/10\n",
      "\u001b[1m1/1\u001b[0m \u001b[32m━━━━━━━━━━━━━━━━━━━━\u001b[0m\u001b[37m\u001b[0m \u001b[1m0s\u001b[0m 68ms/step - accuracy: 0.2500 - loss: 0.6687 - val_accuracy: 0.5000 - val_loss: 0.6817\n",
      "Epoch 6/10\n",
      "\u001b[1m1/1\u001b[0m \u001b[32m━━━━━━━━━━━━━━━━━━━━\u001b[0m\u001b[37m\u001b[0m \u001b[1m0s\u001b[0m 67ms/step - accuracy: 0.0000e+00 - loss: 0.6737 - val_accuracy: 0.5000 - val_loss: 0.6797\n",
      "Epoch 7/10\n",
      "\u001b[1m1/1\u001b[0m \u001b[32m━━━━━━━━━━━━━━━━━━━━\u001b[0m\u001b[37m\u001b[0m \u001b[1m0s\u001b[0m 65ms/step - accuracy: 0.5000 - loss: 0.6662 - val_accuracy: 0.5000 - val_loss: 0.6778\n",
      "Epoch 8/10\n",
      "\u001b[1m1/1\u001b[0m \u001b[32m━━━━━━━━━━━━━━━━━━━━\u001b[0m\u001b[37m\u001b[0m \u001b[1m0s\u001b[0m 71ms/step - accuracy: 0.0000e+00 - loss: 0.6577 - val_accuracy: 0.5000 - val_loss: 0.6757\n",
      "Epoch 9/10\n",
      "\u001b[1m1/1\u001b[0m \u001b[32m━━━━━━━━━━━━━━━━━━━━\u001b[0m\u001b[37m\u001b[0m \u001b[1m0s\u001b[0m 70ms/step - accuracy: 0.0000e+00 - loss: 0.6560 - val_accuracy: 0.5000 - val_loss: 0.6736\n",
      "Epoch 10/10\n",
      "\u001b[1m1/1\u001b[0m \u001b[32m━━━━━━━━━━━━━━━━━━━━\u001b[0m\u001b[37m\u001b[0m \u001b[1m0s\u001b[0m 68ms/step - accuracy: 0.0000e+00 - loss: 0.6437 - val_accuracy: 0.5000 - val_loss: 0.6714\n",
      "\u001b[1m1/1\u001b[0m \u001b[32m━━━━━━━━━━━━━━━━━━━━\u001b[0m\u001b[37m\u001b[0m \u001b[1m0s\u001b[0m 47ms/step\n",
      "Book: Messi: Edición revisada y actualizada. Una biografía del astro argentino.\n",
      "Expected Tags: Biography, Sports, Football, Nonfiction, Sports & Outdoors\n",
      "Predicted Tags: Holocaust, Memoir, Literature, \u001b[32mNonfiction\u001b[0m, Fantasy, Classics, Fiction, Historical\n",
      "Missing Tags: \u001b[31mSports\u001b[0m, \u001b[31mSports & Outdoors\u001b[0m, \u001b[31mFootball\u001b[0m, \u001b[31mBiography\u001b[0m\n",
      "--------------------------------------------------\n",
      "\u001b[1m1/1\u001b[0m \u001b[32m━━━━━━━━━━━━━━━━━━━━\u001b[0m\u001b[37m\u001b[0m \u001b[1m0s\u001b[0m 36ms/step\n",
      "Book: The Great Gatsby. A novel about the American dream and the roaring twenties.\n",
      "Expected Tags: Classics, Fiction, Literature, Romance, Historical Fiction\n",
      "Predicted Tags: Audiobook, School, \u001b[32mLiterature\u001b[0m, Fantasy, \u001b[32mClassics\u001b[0m, \u001b[32mFiction\u001b[0m, Dystopia, Philosophy\n",
      "Missing Tags: \u001b[31mHistorical Fiction\u001b[0m, \u001b[31mRomance\u001b[0m\n",
      "--------------------------------------------------\n",
      "\u001b[1m1/1\u001b[0m \u001b[32m━━━━━━━━━━━━━━━━━━━━\u001b[0m\u001b[37m\u001b[0m \u001b[1m0s\u001b[0m 31ms/step\n",
      "Book: A Brief History of Time. Stephen Hawking explains the universe and black holes.\n",
      "Expected Tags: Science, Nonfiction, Physics, Philosophy, History, Astronomy\n",
      "Predicted Tags: Holocaust, Literature, \u001b[32mNonfiction\u001b[0m, Fantasy, Classics, Fiction\n",
      "Missing Tags: \u001b[31mPhysics\u001b[0m, \u001b[31mAstronomy\u001b[0m, \u001b[31mHistory\u001b[0m, \u001b[31mScience\u001b[0m, \u001b[31mPhilosophy\u001b[0m\n",
      "--------------------------------------------------\n",
      "\u001b[1m1/1\u001b[0m \u001b[32m━━━━━━━━━━━━━━━━━━━━\u001b[0m\u001b[37m\u001b[0m \u001b[1m0s\u001b[0m 39ms/step\n",
      "Book: The Catcher in the Rye. A story about teenage rebellion and identity.\n",
      "Expected Tags: Classics, Fiction, Young Adult, Literature, Contemporary Fiction\n",
      "Predicted Tags: \u001b[32mLiterature\u001b[0m, \u001b[32mClassics\u001b[0m, \u001b[32mFiction\u001b[0m, Dystopia, Philosophy\n",
      "Missing Tags: \u001b[31mContemporary Fiction\u001b[0m, \u001b[31mYoung Adult\u001b[0m\n",
      "--------------------------------------------------\n",
      "\u001b[1m1/1\u001b[0m \u001b[32m━━━━━━━━━━━━━━━━━━━━\u001b[0m\u001b[37m\u001b[0m \u001b[1m0s\u001b[0m 42ms/step\n",
      "Book: The Art of War. Ancient Chinese military strategy by Sun Tzu.\n",
      "Expected Tags: Philosophy, History, Nonfiction, Military, Self-Help\n",
      "Predicted Tags: Audiobook, School, Literature, \u001b[32mNonfiction\u001b[0m, Fantasy, Classics, Fiction\n",
      "Missing Tags: \u001b[31mSelf-Help\u001b[0m, \u001b[31mPhilosophy\u001b[0m, \u001b[31mMilitary\u001b[0m, \u001b[31mHistory\u001b[0m\n",
      "--------------------------------------------------\n",
      "\u001b[1m1/1\u001b[0m \u001b[32m━━━━━━━━━━━━━━━━━━━━\u001b[0m\u001b[37m\u001b[0m \u001b[1m0s\u001b[0m 32ms/step\n",
      "Book: Harry Potter and the Chamber of Secrets. The second book in the Harry Potter series.\n",
      "Expected Tags: Fantasy, Fiction, Young Adult, Adventure, Magic\n",
      "Predicted Tags: Literature, \u001b[32mFantasy\u001b[0m, Classics, \u001b[32mFiction\u001b[0m, Philosophy\n",
      "Missing Tags: \u001b[31mAdventure\u001b[0m, \u001b[31mYoung Adult\u001b[0m, \u001b[31mMagic\u001b[0m\n",
      "--------------------------------------------------\n"
     ]
    }
   ],
   "source": [
    "# 6. Entrenar el modelo\n",
    "model.fit(X_train, y_train, epochs=10, batch_size=32, validation_data=(X_val, y_val))\n",
    "\n",
    "# 7. Predecir etiquetas para nuevos datos\n",
    "# Libros de prueba\n",
    "test_books = [\n",
    "    {\n",
    "        \"text\": \"Messi: Edición revisada y actualizada. Una biografía del astro argentino.\",\n",
    "        \"expected_tags\": [\"Biography\", \"Sports\", \"Football\", \"Nonfiction\", \"Sports & Outdoors\"]\n",
    "    },\n",
    "    {\n",
    "        \"text\": \"The Great Gatsby. A novel about the American dream and the roaring twenties.\",\n",
    "        \"expected_tags\": [\"Classics\", \"Fiction\", \"Literature\", \"Romance\", \"Historical Fiction\"]\n",
    "    },\n",
    "    {\n",
    "        \"text\": \"A Brief History of Time. Stephen Hawking explains the universe and black holes.\",\n",
    "        \"expected_tags\": [\"Science\", \"Nonfiction\", \"Physics\", \"Philosophy\", \"History\", \"Astronomy\"]\n",
    "    },\n",
    "    {\n",
    "        \"text\": \"The Catcher in the Rye. A story about teenage rebellion and identity.\",\n",
    "        \"expected_tags\": [\"Classics\", \"Fiction\", \"Young Adult\", \"Literature\", \"Contemporary Fiction\"]\n",
    "    },\n",
    "    {\n",
    "        \"text\": \"The Art of War. Ancient Chinese military strategy by Sun Tzu.\",\n",
    "        \"expected_tags\": [\"Philosophy\", \"History\", \"Nonfiction\", \"Military\", \"Self-Help\"]\n",
    "    },\n",
    "    {\n",
    "        \"text\": \"Harry Potter and the Chamber of Secrets. The second book in the Harry Potter series.\",\n",
    "        \"expected_tags\": [\"Fantasy\", \"Fiction\", \"Young Adult\", \"Adventure\", \"Magic\"]\n",
    "    }\n",
    "]\n",
    "\n",
    "# Predecir etiquetas para los libros de prueba\n",
    "for book in test_books:\n",
    "    sample_embedding = model_embed.encode([book[\"text\"]])\n",
    "    predictions = model.predict(sample_embedding)\n",
    "    predicted_tags = mlb.inverse_transform((predictions > 0.5).astype(int))[0]\n",
    "    \n",
    "    # Comparar etiquetas esperadas y predichas\n",
    "    expected_tags = set(book[\"expected_tags\"])\n",
    "    predicted_tags = set(predicted_tags)\n",
    "    \n",
    "    # Identificar aciertos y errores\n",
    "    correct_tags = expected_tags & predicted_tags\n",
    "    incorrect_tags = predicted_tags - expected_tags\n",
    "    missing_tags = expected_tags - predicted_tags\n",
    "    \n",
    "    # Pintar los resultados\n",
    "    print(f\"Book: {book['text']}\")\n",
    "    print(\"Expected Tags:\", \", \".join(book[\"expected_tags\"]))\n",
    "    print(\"Predicted Tags:\", \", \".join(\n",
    "        [colored(tag, \"green\") if tag in correct_tags else tag for tag in predicted_tags]\n",
    "    ))\n",
    "    print(\"Missing Tags:\", \", \".join([colored(tag, \"red\") for tag in missing_tags]))\n",
    "    print(\"-\" * 50)"
   ]
  },
  {
   "cell_type": "code",
   "execution_count": 12,
   "id": "95e42ff2",
   "metadata": {},
   "outputs": [
    {
     "data": {
      "text/plain": [
       "['../model/book_tagging_keras_mlb_encoder.pkl']"
      ]
     },
     "execution_count": 12,
     "metadata": {},
     "output_type": "execute_result"
    }
   ],
   "source": [
    "# 8. Guardar el modelo Keras entrenado y el codificador de etiquetas como \"book_tagging_keras_model...\"\n",
    "\n",
    "# Guardar el modelo Keras en el formato recomendado\n",
    "model.save(\"../model/book_tagging_keras_model.keras\")  # Guardar en formato nativo de Keras\n",
    "\n",
    "# Guardar el binarizador de etiquetas\n",
    "joblib.dump(mlb, \"../model/book_tagging_keras_mlb_encoder.pkl\")  # Guardar el binarizador"
   ]
  }
 ],
 "metadata": {
  "kernelspec": {
   "display_name": "base",
   "language": "python",
   "name": "python3"
  },
  "language_info": {
   "codemirror_mode": {
    "name": "ipython",
    "version": 3
   },
   "file_extension": ".py",
   "mimetype": "text/x-python",
   "name": "python",
   "nbconvert_exporter": "python",
   "pygments_lexer": "ipython3",
   "version": "3.12.7"
  }
 },
 "nbformat": 4,
 "nbformat_minor": 5
}
