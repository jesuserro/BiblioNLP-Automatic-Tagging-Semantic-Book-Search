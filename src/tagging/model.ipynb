{
 "cells": [
  {
   "cell_type": "code",
   "execution_count": 3,
   "metadata": {},
   "outputs": [],
   "source": [
    "# %pip install sentence_transformers\n",
    "# %pip install fastapi\n",
    "# %pip install uvicorn\n",
    "# %pip install scikit-learn\n",
    "# %pip install joblib\n",
    "\n",
    "# import sentence_transformers\n",
    "# from sentence_transformers import SentenceTransformer"
   ]
  },
  {
   "cell_type": "code",
   "execution_count": 4,
   "metadata": {},
   "outputs": [
    {
     "data": {
      "application/vnd.jupyter.widget-view+json": {
       "model_id": "44251f77929b4bd4afe3065ef70abbb3",
       "version_major": 2,
       "version_minor": 0
      },
      "text/plain": [
       "Batches:   0%|          | 0/37 [00:00<?, ?it/s]"
      ]
     },
     "metadata": {},
     "output_type": "display_data"
    },
    {
     "name": "stdout",
     "output_type": "stream",
     "text": [
      "[('astronomy', 'philosophy', 'religion', 'science', 'to-read')]\n"
     ]
    }
   ],
   "source": [
    "import pandas as pd\n",
    "from sklearn.preprocessing import MultiLabelBinarizer\n",
    "from sklearn.linear_model import LogisticRegression\n",
    "from sklearn.pipeline import make_pipeline\n",
    "from sklearn.multioutput import MultiOutputClassifier\n",
    "from sentence_transformers import SentenceTransformer\n",
    "from sklearn.metrics import classification_report\n",
    "import numpy as np\n",
    "import joblib\n",
    "import os\n",
    "\n",
    "# 1. Cargar el dataset\n",
    "df = pd.read_csv('../../data/processed/books.csv')\n",
    "\n",
    "# 2. Combinar título y blurb como entrada textual\n",
    "df['text'] = df['book_title'].fillna('') + '. ' + df['blurb'].fillna('')\n",
    "\n",
    "# 3. Procesar los tags: convertirlos en listas\n",
    "df['tags'] = df['tags'].apply(lambda x: [t.strip() for t in str(x).split(',')])\n",
    "\n",
    "# 4. Binarización multilabel\n",
    "mlb = MultiLabelBinarizer()\n",
    "Y = mlb.fit_transform(df['tags'])\n",
    "\n",
    "# 5. Generar embeddings con un modelo multilingüe\n",
    "model = SentenceTransformer('paraphrase-multilingual-MiniLM-L12-v2')\n",
    "X_embeddings = model.encode(df['text'].tolist(), show_progress_bar=True)\n",
    "\n",
    "# 6. Entrenar modelo multilabel\n",
    "clf = MultiOutputClassifier(LogisticRegression(max_iter=1000))\n",
    "clf.fit(X_embeddings, Y)\n",
    "\n",
    "# 7. Guardar modelo y objetos necesarios\n",
    "joblib.dump(clf, 'model/model.joblib')\n",
    "joblib.dump(mlb, 'model/mlb.joblib')\n",
    "joblib.dump(model, 'model/sentence_bert.joblib')\n",
    "\n",
    "# 8. Función para predecir tags de nuevos libros\n",
    "def predict_tags(titles, blurbs, threshold=0.3):\n",
    "    texts = [t + '. ' + b for t, b in zip(titles, blurbs)]\n",
    "    X_test = model.encode(texts)\n",
    "    \n",
    "    # Obtener las probabilidades de predicción\n",
    "    preds_proba = np.array([proba[:, 1] for proba in clf.predict_proba(X_test)]).T\n",
    "    \n",
    "    # Aplicar el umbral para convertir probabilidades en etiquetas binarias\n",
    "    preds = (preds_proba >= threshold).astype(int)\n",
    "    \n",
    "    # Invertir la binarización para obtener las etiquetas originales\n",
    "    tag_lists = mlb.inverse_transform(preds)\n",
    "    return tag_lists\n",
    "\n",
    "# Ejemplo de predicción\n",
    "new_titles = [\"La conspiración del universo\"]\n",
    "new_blurbs = [\"Una historia que entrelaza ciencia, fe y filosofía para revelar los secretos de la creación.\"]\n",
    "predicted_tags = predict_tags(new_titles, new_blurbs)\n",
    "print(predicted_tags)"
   ]
  }
 ],
 "metadata": {
  "kernelspec": {
   "display_name": "base",
   "language": "python",
   "name": "python3"
  },
  "language_info": {
   "codemirror_mode": {
    "name": "ipython",
    "version": 3
   },
   "file_extension": ".py",
   "mimetype": "text/x-python",
   "name": "python",
   "nbconvert_exporter": "python",
   "pygments_lexer": "ipython3",
   "version": "3.12.7"
  }
 },
 "nbformat": 4,
 "nbformat_minor": 2
}
