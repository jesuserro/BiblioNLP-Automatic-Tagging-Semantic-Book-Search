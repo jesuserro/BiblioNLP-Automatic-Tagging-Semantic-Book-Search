{
 "cells": [
  {
   "cell_type": "code",
   "execution_count": null,
   "metadata": {},
   "outputs": [
    {
     "name": "stdout",
     "output_type": "stream",
     "text": [
      "Collecting fastapi\n",
      "  Downloading fastapi-0.115.12-py3-none-any.whl.metadata (27 kB)\n",
      "Collecting starlette<0.47.0,>=0.40.0 (from fastapi)\n",
      "  Downloading starlette-0.46.1-py3-none-any.whl.metadata (6.2 kB)\n",
      "Requirement already satisfied: pydantic!=1.8,!=1.8.1,!=2.0.0,!=2.0.1,!=2.1.0,<3.0.0,>=1.7.4 in c:\\users\\jesus\\anaconda3\\lib\\site-packages (from fastapi) (2.8.2)\n",
      "Requirement already satisfied: typing-extensions>=4.8.0 in c:\\users\\jesus\\anaconda3\\lib\\site-packages (from fastapi) (4.11.0)\n",
      "Requirement already satisfied: annotated-types>=0.4.0 in c:\\users\\jesus\\anaconda3\\lib\\site-packages (from pydantic!=1.8,!=1.8.1,!=2.0.0,!=2.0.1,!=2.1.0,<3.0.0,>=1.7.4->fastapi) (0.6.0)\n",
      "Requirement already satisfied: pydantic-core==2.20.1 in c:\\users\\jesus\\anaconda3\\lib\\site-packages (from pydantic!=1.8,!=1.8.1,!=2.0.0,!=2.0.1,!=2.1.0,<3.0.0,>=1.7.4->fastapi) (2.20.1)\n",
      "Requirement already satisfied: anyio<5,>=3.6.2 in c:\\users\\jesus\\anaconda3\\lib\\site-packages (from starlette<0.47.0,>=0.40.0->fastapi) (4.2.0)\n",
      "Requirement already satisfied: idna>=2.8 in c:\\users\\jesus\\anaconda3\\lib\\site-packages (from anyio<5,>=3.6.2->starlette<0.47.0,>=0.40.0->fastapi) (3.7)\n",
      "Requirement already satisfied: sniffio>=1.1 in c:\\users\\jesus\\anaconda3\\lib\\site-packages (from anyio<5,>=3.6.2->starlette<0.47.0,>=0.40.0->fastapi) (1.3.0)\n",
      "Downloading fastapi-0.115.12-py3-none-any.whl (95 kB)\n",
      "Downloading starlette-0.46.1-py3-none-any.whl (71 kB)\n",
      "Installing collected packages: starlette, fastapi\n",
      "Successfully installed fastapi-0.115.12 starlette-0.46.1\n",
      "Note: you may need to restart the kernel to use updated packages.\n",
      "Collecting uvicorn\n",
      "  Downloading uvicorn-0.34.0-py3-none-any.whl.metadata (6.5 kB)\n",
      "Requirement already satisfied: click>=7.0 in c:\\users\\jesus\\anaconda3\\lib\\site-packages (from uvicorn) (8.1.7)\n",
      "Requirement already satisfied: h11>=0.8 in c:\\users\\jesus\\anaconda3\\lib\\site-packages (from uvicorn) (0.14.0)\n",
      "Requirement already satisfied: colorama in c:\\users\\jesus\\anaconda3\\lib\\site-packages (from click>=7.0->uvicorn) (0.4.6)\n",
      "Downloading uvicorn-0.34.0-py3-none-any.whl (62 kB)\n",
      "Installing collected packages: uvicorn\n",
      "Successfully installed uvicorn-0.34.0\n",
      "Note: you may need to restart the kernel to use updated packages.\n",
      "Requirement already satisfied: scikit-learn in c:\\users\\jesus\\anaconda3\\lib\\site-packages (1.5.1)\n",
      "Requirement already satisfied: numpy>=1.19.5 in c:\\users\\jesus\\anaconda3\\lib\\site-packages (from scikit-learn) (1.26.4)\n",
      "Requirement already satisfied: scipy>=1.6.0 in c:\\users\\jesus\\anaconda3\\lib\\site-packages (from scikit-learn) (1.13.1)\n",
      "Requirement already satisfied: joblib>=1.2.0 in c:\\users\\jesus\\anaconda3\\lib\\site-packages (from scikit-learn) (1.4.2)\n",
      "Requirement already satisfied: threadpoolctl>=3.1.0 in c:\\users\\jesus\\anaconda3\\lib\\site-packages (from scikit-learn) (3.5.0)\n",
      "Note: you may need to restart the kernel to use updated packages.\n",
      "Requirement already satisfied: joblib in c:\\users\\jesus\\anaconda3\\lib\\site-packages (1.4.2)\n",
      "Note: you may need to restart the kernel to use updated packages.\n"
     ]
    }
   ],
   "source": [
    "# %pip install sentence_transformers\n",
    "# %pip install fastapi\n",
    "# %pip install uvicorn\n",
    "# %pip install scikit-learn\n",
    "# %pip install joblib\n",
    "\n",
    "# import sentence_transformers\n",
    "# from sentence_transformers import SentenceTransformer"
   ]
  },
  {
   "cell_type": "code",
   "execution_count": 8,
   "metadata": {},
   "outputs": [
    {
     "data": {
      "application/vnd.jupyter.widget-view+json": {
       "model_id": "39d40f9fcc1e43c7b8e6b4503adf24ca",
       "version_major": 2,
       "version_minor": 0
      },
      "text/plain": [
       "Batches:   0%|          | 0/37 [00:00<?, ?it/s]"
      ]
     },
     "metadata": {},
     "output_type": "display_data"
    },
    {
     "name": "stdout",
     "output_type": "stream",
     "text": [
      "[('to-read',)]\n"
     ]
    }
   ],
   "source": [
    "import pandas as pd\n",
    "from sklearn.preprocessing import MultiLabelBinarizer\n",
    "from sklearn.linear_model import LogisticRegression\n",
    "from sklearn.pipeline import make_pipeline\n",
    "from sklearn.multioutput import MultiOutputClassifier\n",
    "from sentence_transformers import SentenceTransformer\n",
    "from sklearn.metrics import classification_report\n",
    "import numpy as np\n",
    "import joblib\n",
    "import os\n",
    "\n",
    "# 1. Cargar el dataset\n",
    "df = pd.read_csv('../../data/processed/books.csv')\n",
    "\n",
    "# 2. Combinar título y blurb como entrada textual\n",
    "df['text'] = df['book_title'].fillna('') + '. ' + df['blurb'].fillna('')\n",
    "\n",
    "# 3. Procesar los tags: convertirlos en listas\n",
    "df['tags'] = df['tags'].apply(lambda x: [t.strip() for t in str(x).split(',')])\n",
    "\n",
    "# 4. Binarización multilabel\n",
    "mlb = MultiLabelBinarizer()\n",
    "Y = mlb.fit_transform(df['tags'])\n",
    "\n",
    "# 5. Generar embeddings con Sentence-BERT\n",
    "model = SentenceTransformer('all-MiniLM-L6-v2')\n",
    "X_embeddings = model.encode(df['text'].tolist(), show_progress_bar=True)\n",
    "\n",
    "# 6. Entrenar modelo multilabel\n",
    "clf = MultiOutputClassifier(LogisticRegression(max_iter=1000))\n",
    "clf.fit(X_embeddings, Y)\n",
    "\n",
    "# 7. Guardar modelo y objetos necesarios\n",
    "joblib.dump(clf, 'model/model.joblib')\n",
    "joblib.dump(mlb, 'model/mlb.joblib')\n",
    "joblib.dump(model, 'model/sentence_bert.joblib')\n",
    "\n",
    "# 7. Función para predecir tags de nuevos libros\n",
    "def predict_tags(titles, blurbs):\n",
    "    texts = [t + '. ' + b for t, b in zip(titles, blurbs)]\n",
    "    X_test = model.encode(texts)\n",
    "    preds = clf.predict(X_test)\n",
    "    tag_lists = mlb.inverse_transform(preds)\n",
    "    return tag_lists\n",
    "\n",
    "# Ejemplo de predicción\n",
    "new_titles = [\"La conspiración del universo\"]\n",
    "new_blurbs = [\"Una historia que entrelaza ciencia, fe y filosofía para revelar los secretos de la creación.\"]\n",
    "predicted_tags = predict_tags(new_titles, new_blurbs)\n",
    "print(predicted_tags)\n"
   ]
  }
 ],
 "metadata": {
  "kernelspec": {
   "display_name": "base",
   "language": "python",
   "name": "python3"
  },
  "language_info": {
   "codemirror_mode": {
    "name": "ipython",
    "version": 3
   },
   "file_extension": ".py",
   "mimetype": "text/x-python",
   "name": "python",
   "nbconvert_exporter": "python",
   "pygments_lexer": "ipython3",
   "version": "3.12.7"
  }
 },
 "nbformat": 4,
 "nbformat_minor": 2
}
